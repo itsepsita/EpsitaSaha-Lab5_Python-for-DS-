{
  "metadata": {
    "kernelspec": {
      "name": "python",
      "display_name": "Python (Pyodide)",
      "language": "python"
    },
    "language_info": {
      "codemirror_mode": {
        "name": "python",
        "version": 3
      },
      "file_extension": ".py",
      "mimetype": "text/x-python",
      "name": "python",
      "nbconvert_exporter": "python",
      "pygments_lexer": "ipython3",
      "version": "3.8"
    }
  },
  "nbformat_minor": 4,
  "nbformat": 4,
  "cells": [
    {
      "cell_type": "code",
      "source": "# Step 1: Import Libraries\nimport pandas as pd\nimport numpy as np\nimport matplotlib.pyplot as plt\nimport seaborn as sns\nfrom sklearn.model_selection import train_test_split\nfrom sklearn.preprocessing import LabelEncoder, StandardScaler\nfrom sklearn.linear_model import LinearRegression\nfrom sklearn.ensemble import RandomForestRegressor\nfrom sklearn.metrics import mean_squared_error, r2_score",
      "metadata": {
        "trusted": true
      },
      "outputs": [],
      "execution_count": null
    },
    {
      "cell_type": "code",
      "source": "# Step 2: Load Dataset\n# Load the dataset\ndata = pd.read_csv('../data/car_data.csv')\n\n# Display the first 5 rows\nprint(data.head())\n\n# Basic info about the dataset\nprint(data.info())\n\n# Check for missing values\nprint(data.isnull().sum())",
      "metadata": {
        "trusted": true
      },
      "outputs": [],
      "execution_count": null
    },
    {
      "cell_type": "code",
      "source": "# Step 3: Exploratory Data Analysis (EDA)\n# Check basic statistics\nprint(data.describe())\n\n# Visualizing correlations\nsns.heatmap(data.corr(), annot=True, cmap='coolwarm')\nplt.title(\"Correlation Heatmap\")\nplt.show()\n\n# Distribution of car prices\nsns.histplot(data['Selling_Price'], kde=True, bins=30)\nplt.title(\"Distribution of Selling Price\")\nplt.show()\n\n# Relationship between Selling Price and Year\nsns.scatterplot(x='Year', y='Selling_Price', data=data)\nplt.title(\"Selling Price vs Year\")\nplt.show()\n\n# Analyze Fuel Type distribution\nsns.countplot(data['Fuel_Type'])\nplt.title(\"Fuel Type Distribution\")\nplt.show()",
      "metadata": {
        "trusted": true
      },
      "outputs": [],
      "execution_count": null
    },
    {
      "cell_type": "code",
      "source": "# Step 4: Data Cleaning\n# Drop unnecessary columns (e.g., 'Car_Name')\ndata = data.drop(['Car_Name'], axis=1)\n\n# Encoding categorical variables (Fuel_Type, Seller_Type, Transmission)\nencoder = LabelEncoder()\ndata['Fuel_Type'] = encoder.fit_transform(data['Fuel_Type'])\ndata['Seller_Type'] = encoder.fit_transform(data['Seller_Type'])\ndata['Transmission'] = encoder.fit_transform(data['Transmission'])",
      "metadata": {
        "trusted": true
      },
      "outputs": [],
      "execution_count": null
    },
    {
      "cell_type": "code",
      "source": "# Step 5: Feature Engineering\n# Create a new column for car age\ndata['Car_Age'] = 2024 - data['Year']\ndata = data.drop(['Year'], axis=1)",
      "metadata": {
        "trusted": true
      },
      "outputs": [],
      "execution_count": null
    },
    {
      "cell_type": "code",
      "source": "# Step 6: Data Splitting\n# Features (X) and target (y)\nX = data.drop(['Selling_Price'], axis=1)\ny = data['Selling_Price']\n\n# Split data into training and testing sets (80% train, 20% test)\nX_train, X_test, y_train, y_test = train_test_split(X, y, test_size=0.2, random_state=42)",
      "metadata": {
        "trusted": true
      },
      "outputs": [],
      "execution_count": null
    },
    {
      "cell_type": "code",
      "source": "# Step 7: Model Building\n# Scale the features\nscaler = StandardScaler()\nX_train_scaled = scaler.fit_transform(X_train)\nX_test_scaled = scaler.transform(X_test)\n\n# Train a Linear Regression model\nlr_model = LinearRegression()\nlr_model.fit(X_train_scaled, y_train)\n\n# Predict and evaluate Linear Regression\nlr_predictions = lr_model.predict(X_test_scaled)\nlr_rmse = np.sqrt(mean_squared_error(y_test, lr_predictions))\nlr_r2 = r2_score(y_test, lr_predictions)\nprint(f\"Linear Regression - RMSE: {lr_rmse:.2f}, R2 Score: {lr_r2:.2f}\")\n\n# Train a Random Forest Regressor\nrf_model = RandomForestRegressor(random_state=42)\nrf_model.fit(X_train, y_train)\n\n# Predict and evaluate Random Forest\nrf_predictions = rf_model.predict(X_test)\nrf_rmse = np.sqrt(mean_squared_error(y_test, rf_predictions))\nrf_r2 = r2_score(y_test, rf_predictions)\nprint(f\"Random Forest - RMSE: {rf_rmse:.2f}, R2 Score: {rf_r2:.2f}\")",
      "metadata": {
        "trusted": true
      },
      "outputs": [],
      "execution_count": null
    },
    {
      "cell_type": "code",
      "source": "# Step 8: Conclusions\nprint(\"\\nConclusions:\")\nprint(\"- Linear Regression performs well with RMSE and R2 Score as shown above.\")\nprint(\"- Random Forest outperforms Linear Regression, suggesting it captures non-linear relationships better.\")",
      "metadata": {
        "trusted": true
      },
      "outputs": [],
      "execution_count": null
    }
  ]
}